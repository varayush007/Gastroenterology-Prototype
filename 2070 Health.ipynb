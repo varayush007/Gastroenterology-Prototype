{
 "cells": [
  {
   "cell_type": "code",
   "execution_count": 1,
   "id": "a50421ed",
   "metadata": {},
   "outputs": [
    {
     "name": "stdout",
     "output_type": "stream",
     "text": [
      "Requirement already satisfied: langchain in c:\\users\\varsh\\anaconda3\\lib\\site-packages (0.0.316)Note: you may need to restart the kernel to use updated packages.\n",
      "\n",
      "Requirement already satisfied: PyYAML>=5.3 in c:\\users\\varsh\\anaconda3\\lib\\site-packages (from langchain) (6.0.1)\n",
      "Requirement already satisfied: SQLAlchemy<3,>=1.4 in c:\\users\\varsh\\anaconda3\\lib\\site-packages (from langchain) (2.0.29)\n",
      "Requirement already satisfied: aiohttp<4.0.0,>=3.8.3 in c:\\users\\varsh\\anaconda3\\lib\\site-packages (from langchain) (3.9.5)\n",
      "Requirement already satisfied: anyio<4.0 in c:\\users\\varsh\\anaconda3\\lib\\site-packages (from langchain) (3.5.0)\n",
      "Requirement already satisfied: dataclasses-json<0.7,>=0.5.7 in c:\\users\\varsh\\anaconda3\\lib\\site-packages (from langchain) (0.5.14)\n",
      "Requirement already satisfied: jsonpatch<2.0,>=1.33 in c:\\users\\varsh\\anaconda3\\lib\\site-packages (from langchain) (1.33)\n",
      "Requirement already satisfied: langsmith<0.1.0,>=0.0.43 in c:\\users\\varsh\\anaconda3\\lib\\site-packages (from langchain) (0.0.92)\n",
      "Requirement already satisfied: numpy<2,>=1 in c:\\users\\varsh\\anaconda3\\lib\\site-packages (from langchain) (1.24.3)\n",
      "Requirement already satisfied: pydantic<3,>=1 in c:\\users\\varsh\\anaconda3\\lib\\site-packages (from langchain) (1.10.0)\n",
      "Requirement already satisfied: requests<3,>=2 in c:\\users\\varsh\\anaconda3\\lib\\site-packages (from langchain) (2.31.0)\n",
      "Requirement already satisfied: tenacity<9.0.0,>=8.1.0 in c:\\users\\varsh\\anaconda3\\lib\\site-packages (from langchain) (8.2.3)\n",
      "Requirement already satisfied: aiosignal>=1.1.2 in c:\\users\\varsh\\anaconda3\\lib\\site-packages (from aiohttp<4.0.0,>=3.8.3->langchain) (1.2.0)\n",
      "Requirement already satisfied: attrs>=17.3.0 in c:\\users\\varsh\\anaconda3\\lib\\site-packages (from aiohttp<4.0.0,>=3.8.3->langchain) (23.2.0)\n",
      "Requirement already satisfied: frozenlist>=1.1.1 in c:\\users\\varsh\\anaconda3\\lib\\site-packages (from aiohttp<4.0.0,>=3.8.3->langchain) (1.3.3)\n",
      "Requirement already satisfied: multidict<7.0,>=4.5 in c:\\users\\varsh\\anaconda3\\lib\\site-packages (from aiohttp<4.0.0,>=3.8.3->langchain) (6.0.2)\n",
      "Requirement already satisfied: yarl<2.0,>=1.0 in c:\\users\\varsh\\anaconda3\\lib\\site-packages (from aiohttp<4.0.0,>=3.8.3->langchain) (1.8.1)\n",
      "Requirement already satisfied: idna>=2.8 in c:\\users\\varsh\\anaconda3\\lib\\site-packages (from anyio<4.0->langchain) (3.4)\n",
      "Requirement already satisfied: sniffio>=1.1 in c:\\users\\varsh\\anaconda3\\lib\\site-packages (from anyio<4.0->langchain) (1.3.1)\n",
      "Requirement already satisfied: marshmallow<4.0.0,>=3.18.0 in c:\\users\\varsh\\anaconda3\\lib\\site-packages (from dataclasses-json<0.7,>=0.5.7->langchain) (3.20.2)\n",
      "Requirement already satisfied: typing-inspect<1,>=0.4.0 in c:\\users\\varsh\\anaconda3\\lib\\site-packages (from dataclasses-json<0.7,>=0.5.7->langchain) (0.9.0)\n",
      "Requirement already satisfied: jsonpointer>=1.9 in c:\\users\\varsh\\anaconda3\\lib\\site-packages (from jsonpatch<2.0,>=1.33->langchain) (2.1)\n",
      "Requirement already satisfied: typing-extensions>=4.1.0 in c:\\users\\varsh\\anaconda3\\lib\\site-packages (from pydantic<3,>=1->langchain) (4.9.0)\n",
      "Requirement already satisfied: charset-normalizer<4,>=2 in c:\\users\\varsh\\anaconda3\\lib\\site-packages (from requests<3,>=2->langchain) (3.3.2)\n",
      "Requirement already satisfied: urllib3<3,>=1.21.1 in c:\\users\\varsh\\anaconda3\\lib\\site-packages (from requests<3,>=2->langchain) (2.2.1)\n",
      "Requirement already satisfied: certifi>=2017.4.17 in c:\\users\\varsh\\anaconda3\\lib\\site-packages (from requests<3,>=2->langchain) (2023.11.17)\n",
      "Requirement already satisfied: greenlet!=0.4.17 in c:\\users\\varsh\\anaconda3\\lib\\site-packages (from SQLAlchemy<3,>=1.4->langchain) (2.0.1)\n",
      "Requirement already satisfied: packaging>=17.0 in c:\\users\\varsh\\anaconda3\\lib\\site-packages (from marshmallow<4.0.0,>=3.18.0->dataclasses-json<0.7,>=0.5.7->langchain) (23.2)\n",
      "Requirement already satisfied: mypy-extensions>=0.3.0 in c:\\users\\varsh\\anaconda3\\lib\\site-packages (from typing-inspect<1,>=0.4.0->dataclasses-json<0.7,>=0.5.7->langchain) (1.0.0)\n"
     ]
    }
   ],
   "source": [
    "pip install langchain"
   ]
  },
  {
   "cell_type": "code",
   "execution_count": 2,
   "id": "0428447b",
   "metadata": {},
   "outputs": [
    {
     "name": "stdout",
     "output_type": "stream",
     "text": [
      "Requirement already satisfied: unstructured in c:\\users\\varsh\\anaconda3\\lib\\site-packages (0.9.2)\n",
      "Collecting unstructured\n",
      "  Obtaining dependency information for unstructured from https://files.pythonhosted.org/packages/04/54/96c7eb8643c74395db1b3ce89329f287b28ea32defa706a6bcbba6e8f888/unstructured-0.13.6-py3-none-any.whl.metadata\n",
      "  Downloading unstructured-0.13.6-py3-none-any.whl.metadata (30 kB)\n",
      "Requirement already satisfied: chardet in c:\\users\\varsh\\anaconda3\\lib\\site-packages (from unstructured) (4.0.0)\n",
      "Requirement already satisfied: filetype in c:\\users\\varsh\\anaconda3\\lib\\site-packages (from unstructured) (1.2.0)\n",
      "Requirement already satisfied: python-magic in c:\\users\\varsh\\anaconda3\\lib\\site-packages (from unstructured) (0.4.27)\n",
      "Requirement already satisfied: lxml in c:\\users\\varsh\\anaconda3\\lib\\site-packages (from unstructured) (4.9.3)\n",
      "Requirement already satisfied: nltk in c:\\users\\varsh\\anaconda3\\lib\\site-packages (from unstructured) (3.8.1)\n",
      "Requirement already satisfied: tabulate in c:\\users\\varsh\\anaconda3\\lib\\site-packages (from unstructured) (0.8.10)\n",
      "Requirement already satisfied: requests in c:\\users\\varsh\\anaconda3\\lib\\site-packages (from unstructured) (2.31.0)\n",
      "Requirement already satisfied: beautifulsoup4 in c:\\users\\varsh\\anaconda3\\lib\\site-packages (from unstructured) (4.12.3)\n",
      "Requirement already satisfied: emoji in c:\\users\\varsh\\anaconda3\\lib\\site-packages (from unstructured) (2.10.1)\n",
      "Requirement already satisfied: dataclasses-json in c:\\users\\varsh\\anaconda3\\lib\\site-packages (from unstructured) (0.5.14)\n",
      "Requirement already satisfied: python-iso639 in c:\\users\\varsh\\anaconda3\\lib\\site-packages (from unstructured) (2024.2.7)\n",
      "Requirement already satisfied: langdetect in c:\\users\\varsh\\anaconda3\\lib\\site-packages (from unstructured) (1.0.9)\n",
      "Requirement already satisfied: numpy in c:\\users\\varsh\\anaconda3\\lib\\site-packages (from unstructured) (1.24.3)\n",
      "Requirement already satisfied: rapidfuzz in c:\\users\\varsh\\anaconda3\\lib\\site-packages (from unstructured) (3.6.1)\n",
      "Requirement already satisfied: backoff in c:\\users\\varsh\\anaconda3\\lib\\site-packages (from unstructured) (2.2.1)\n",
      "Requirement already satisfied: typing-extensions in c:\\users\\varsh\\anaconda3\\lib\\site-packages (from unstructured) (4.9.0)\n",
      "Requirement already satisfied: unstructured-client in c:\\users\\varsh\\anaconda3\\lib\\site-packages (from unstructured) (0.18.0)\n",
      "Requirement already satisfied: wrapt in c:\\users\\varsh\\anaconda3\\lib\\site-packages (from unstructured) (1.14.1)\n",
      "Requirement already satisfied: soupsieve>1.2 in c:\\users\\varsh\\anaconda3\\lib\\site-packages (from beautifulsoup4->unstructured) (2.4)\n",
      "Requirement already satisfied: marshmallow<4.0.0,>=3.18.0 in c:\\users\\varsh\\anaconda3\\lib\\site-packages (from dataclasses-json->unstructured) (3.20.2)\n",
      "Requirement already satisfied: typing-inspect<1,>=0.4.0 in c:\\users\\varsh\\anaconda3\\lib\\site-packages (from dataclasses-json->unstructured) (0.9.0)\n",
      "Requirement already satisfied: six in c:\\users\\varsh\\anaconda3\\lib\\site-packages (from langdetect->unstructured) (1.16.0)\n",
      "Requirement already satisfied: click in c:\\users\\varsh\\anaconda3\\lib\\site-packages (from nltk->unstructured) (8.0.4)\n",
      "Requirement already satisfied: joblib in c:\\users\\varsh\\anaconda3\\lib\\site-packages (from nltk->unstructured) (1.2.0)\n",
      "Requirement already satisfied: regex>=2021.8.3 in c:\\users\\varsh\\anaconda3\\lib\\site-packages (from nltk->unstructured) (2022.7.9)\n",
      "Requirement already satisfied: tqdm in c:\\users\\varsh\\anaconda3\\lib\\site-packages (from nltk->unstructured) (4.66.2)\n",
      "Requirement already satisfied: charset-normalizer<4,>=2 in c:\\users\\varsh\\anaconda3\\lib\\site-packages (from requests->unstructured) (3.3.2)\n",
      "Requirement already satisfied: idna<4,>=2.5 in c:\\users\\varsh\\anaconda3\\lib\\site-packages (from requests->unstructured) (3.4)\n",
      "Requirement already satisfied: urllib3<3,>=1.21.1 in c:\\users\\varsh\\anaconda3\\lib\\site-packages (from requests->unstructured) (2.2.1)\n",
      "Requirement already satisfied: certifi>=2017.4.17 in c:\\users\\varsh\\anaconda3\\lib\\site-packages (from requests->unstructured) (2023.11.17)\n",
      "Requirement already satisfied: dataclasses-json-speakeasy>=0.5.11 in c:\\users\\varsh\\anaconda3\\lib\\site-packages (from unstructured-client->unstructured) (0.5.11)\n",
      "Requirement already satisfied: jsonpath-python>=1.0.6 in c:\\users\\varsh\\anaconda3\\lib\\site-packages (from unstructured-client->unstructured) (1.0.6)\n",
      "Requirement already satisfied: mypy-extensions>=1.0.0 in c:\\users\\varsh\\anaconda3\\lib\\site-packages (from unstructured-client->unstructured) (1.0.0)\n",
      "Requirement already satisfied: packaging>=23.1 in c:\\users\\varsh\\anaconda3\\lib\\site-packages (from unstructured-client->unstructured) (23.2)\n",
      "Requirement already satisfied: python-dateutil>=2.8.2 in c:\\users\\varsh\\anaconda3\\lib\\site-packages (from unstructured-client->unstructured) (2.8.2)\n",
      "Requirement already satisfied: colorama in c:\\users\\varsh\\anaconda3\\lib\\site-packages (from click->nltk->unstructured) (0.4.6)\n",
      "Downloading unstructured-0.13.6-py3-none-any.whl (1.9 MB)\n",
      "   ---------------------------------------- 0.0/1.9 MB ? eta -:--:--\n",
      "   - -------------------------------------- 0.1/1.9 MB 2.6 MB/s eta 0:00:01\n",
      "   ------ --------------------------------- 0.3/1.9 MB 4.6 MB/s eta 0:00:01\n",
      "   --------- ------------------------------ 0.5/1.9 MB 4.0 MB/s eta 0:00:01\n",
      "   ------------------------- -------------- 1.2/1.9 MB 7.8 MB/s eta 0:00:01\n",
      "   ----------------------------------- ---- 1.7/1.9 MB 8.4 MB/s eta 0:00:01\n",
      "   ---------------------------------------- 1.9/1.9 MB 8.1 MB/s eta 0:00:00\n",
      "Installing collected packages: unstructured\n",
      "  Attempting uninstall: unstructured\n",
      "    Found existing installation: unstructured 0.9.2\n",
      "    Uninstalling unstructured-0.9.2:\n",
      "      Successfully uninstalled unstructured-0.9.2\n",
      "Successfully installed unstructured-0.13.6\n"
     ]
    }
   ],
   "source": [
    "!pip install -U unstructured"
   ]
  },
  {
   "cell_type": "markdown",
   "id": "656d6b88",
   "metadata": {},
   "source": [
    "# Data Loading "
   ]
  },
  {
   "cell_type": "code",
   "execution_count": 3,
   "id": "1bee3509",
   "metadata": {},
   "outputs": [],
   "source": [
    "from langchain_community.document_loaders import UnstructuredURLLoader"
   ]
  },
  {
   "cell_type": "code",
   "execution_count": 4,
   "id": "59619d89",
   "metadata": {},
   "outputs": [],
   "source": [
    "urls = [\n",
    "    \"https://html-starter-alpha-two.vercel.app/\"\n",
    "]"
   ]
  },
  {
   "cell_type": "code",
   "execution_count": 5,
   "id": "2f87c55a",
   "metadata": {},
   "outputs": [],
   "source": [
    "loader = UnstructuredURLLoader(urls=urls)"
   ]
  },
  {
   "cell_type": "code",
   "execution_count": 6,
   "id": "3d137db8",
   "metadata": {},
   "outputs": [
    {
     "name": "stderr",
     "output_type": "stream",
     "text": [
      "[nltk_data] Downloading package punkt to\n",
      "[nltk_data]     C:\\Users\\varsh\\AppData\\Roaming\\nltk_data...\n",
      "[nltk_data]   Unzipping tokenizers\\punkt.zip.\n",
      "[nltk_data] Downloading package averaged_perceptron_tagger to\n",
      "[nltk_data]     C:\\Users\\varsh\\AppData\\Roaming\\nltk_data...\n",
      "[nltk_data]   Unzipping taggers\\averaged_perceptron_tagger.zip.\n"
     ]
    }
   ],
   "source": [
    "data = loader.load()"
   ]
  },
  {
   "cell_type": "code",
   "execution_count": 8,
   "id": "6b78231b",
   "metadata": {},
   "outputs": [
    {
     "data": {
      "text/plain": [
       "[Document(page_content='Gastroenterology (from the Greek gastḗr- \"belly\",\\n        -énteron \"intestine\", and -logía \"study\\n        of\") is the branch of medicine focused on the digestive system and\\n        its disorders.[1] The digestive system consists of the gastrointestinal\\n        tract, sometimes referred to as the GI tract, which includes the\\n        esophagus, stomach, small intestine and large intestine as well as the\\n        accessory organs of digestion which include the pancreas, gallbladder,\\n        and liver.[2][3]\\n\\nThe digestive system functions to move material through the GI tract\\n        via peristalsis, break down that material via digestion, absorb\\n        nutrients for use throughout the body, and remove waste from the body\\n        via defecation.[3] Physicians who specialize in the medical specialty of\\n        gastroenterology are called gastroenterologists or sometimes GI\\n        doctors.\\n\\nSome of the most common conditions managed by gastroenterologists\\n        include gastroesophageal reflux disease, gastrointestinal bleeding,\\n        irritable bowel syndrome, inflammatory bowel disease (IBD) which\\n        includes Crohn\\'s disease and ulcerative colitis, peptic ulcer\\n        disease, gallbladder and biliary tract disease, hepatitis, pancreatitis,\\n        colitis, colon polyps and cancer, nutritional problems, and many\\n        more.\\n\\nDifferences Between Gastroenterology and Gastrointestinal\\n\\nAlthough the words gastroenterology and gastrointestinal are both\\n        related to the digestive tract, they have different meanings:\\n\\nGastroenterology, a noun, is the medical specialty dedicated to\\n        studying and caring for people with conditions of the luminal GI\\n        tract.\\n\\nGastrointestinal, an adjective, refers to the digestive tract as a\\n        whole.\\n\\nWhich Type of Care to Seek for Gastrointestinal Concerns\\n\\nGastroenterology encompasses many diseases and conditions. The type of\\n        care people need depends on their pain severity, symptoms, and overall\\n        health.\\n\\nFor example, mild abdominal pain may require a non-urgent appointment\\n        with a gastroenterologist, but severe abdominal pain accompanied by a\\n        fever and black, tarry stools could require a visit to the emergency\\n        department.\\n\\nPeople with chronic conditions such as heart problems or diabetes may\\n        need to be seen more quickly than someone with no such conditions.\\n\\nGo to the Emergency Department\\n\\nPeople should immediately go to the nearest hospital emergency\\n        department if they experience or suspect any of the following:\\n\\nBloody vomiting\\n\\nChest pain\\n\\nIntestinal obstruction\\n\\nPancreatitis\\n\\nShortness of breath\\n\\nSevere abdominal pain\\n\\nBlack or bloody stools accompanied by lightheadedness or fainting\\n\\nDiarrhea with severe dehydration\\n\\nBiliary tract disorders, including bile-duct stones\\n\\nGo to Urgent Care or See a Gastroenterologist for an Urgent\\n        Appointment\\n\\nPeople should promptly make an urgent appointment with a\\n        gastroenterologist or go to a nearby urgent-care provider if they\\n        experience or suspect any of the following:\\n\\nModerate abdominal pain\\n\\nAcute diarrhea that isn’t going away\\n\\nNausea and vomiting\\n\\nAbdominal abscess\\n\\nAnal fistula\\n\\nSee a Gastroenterologist for a Non-Urgent Appointment\\n\\nPeople should make a non-urgent appointment with a gastroenterologist\\n        if they experience or suspect any of the following:\\n\\nGastrointestinal complications of AIDS, cancer, cystic fibrosis, and\\n        other conditions\\n\\nGenetic gastrointestinal disorders, such as Alagille syndrome\\n\\nAlpha-1 antitrypsin deficiency\\n\\nAnal fissure\\n\\nBarrett’s esophagus\\n\\nBudd-Chiari syndrome\\n\\nCeliac disease\\n\\nChange in bowel habits\\n\\nCirrhosis, including primary biliary cirrhosis\\n\\nColon cancer\\n\\nMotility disorders, including colonic motility dysfunction\\n\\nColon ischemia\\n\\nColon polyps\\n\\nCrohn’s disease\\n\\nCronkhite-Canada syndrome\\n\\nCystic fibrosis\\n\\nHernias, including diaphragmatic hernia and hiatal hernia\\n\\nDiverticulosis\\n\\nDiverticulitis\\n\\nEosinophilic esophagitis\\n\\nEsophageal cancer\\n\\nEsophageal spasms\\n\\nFatty liver disease, including non-alcoholic fatty liver disease\\n\\nFecal incontinence\\n\\nFluid collecting in the abdomen (ascites)\\n\\nFrequent constipation\\n\\nFrequent gas, including frequent belching\\n\\nFrequent indigestion (dyspepsia/“upset stomach”)\\n\\nGallbladder disease, including gallstones\\n\\nGastric disease (stomach disease), including gastric ulcers\\n\\nGastritis\\n\\nGastrointestinal bleeding\\n\\nGastrointestinal cancers\\n\\nGastrointestinal-tract lymphoma\\n\\nGastroparesis\\n\\nGastroesophageal reflux disease (GERD), also called acid reflux and\\n        simply reflux\\n\\nHelicobacter pylori (h. pylori) infection\\n\\nHemorrhoids\\n\\nHepatitis A\\n\\nHepatitis B\\n\\nHepatitis C\\n\\nHereditary hemochromatosis\\n\\nHypereosinophilic syndrome\\n\\nInfancy liver disease\\n\\nInflammatory bowel disease (IBD)\\n\\nIntestinal disease\\n\\nIntestinal cancer\\n\\nIntraductal papillary mucinous neoplasm\\n\\nIrritable bowel syndrome (IBS)\\n\\nLactose intolerance\\n\\nLiver cancer\\n\\nLiver disease\\n\\nLiver lymphoma\\n\\nLynch syndrome\\n\\nMalabsorption syndrome\\n\\nMesenteric ischemia\\n\\nObesity\\n\\nPancreas disease\\n\\nPancreatic cancer\\n\\nPancreatic cysts\\n\\nPancreatitis, including gallstone pancreatitis\\n\\nPeptic-ulcer disease\\n\\nPolyposis syndrome\\n\\nPouchitis\\n\\nPrimary sclerosis cholangitis\\n\\nRectal cancer\\n\\nRectal melanoma\\n\\nRectal prolapse\\n\\nRumination syndrome\\n\\nShort-bowel syndrome\\n\\nSmall-bowel cancer\\n\\nSmall-bowel ischemia\\n\\nStomach cancer\\n\\nSwallowing disorders, such as dysphagia and achalasia\\n\\nUlcerative colitis\\n\\nWeight management\\n\\nWhipple’s disease\\n\\nWilson disease\\n\\nZollinger-Ellison syndrome\\n\\nProcedures\\n\\nColonoscopy\\n\\nA procedure using a long thin tube with a camera that is passed through\\n        the anus to visualize the rectum and the entire length of the colon. The\\n        procedure is performed either to look for colon polyps and/or colon\\n        cancer in somebody without symptoms, referred to as screening, or to\\n        further evaluate symptoms including rectal bleeding, dark tarry stools,\\n        change in bowel habits or stool consistency (diarrhea, pencil-thin\\n        stool), abdominal pain, and unexplained weight loss. Before the\\n        procedure, the physician might ask the patient to stop taking certain\\n        medications including blood thinners, aspirin, diabetes medications, or\\n        nonsteroidal anti-inflammatory drugs. A bowel prep is usually taken the\\n        night before and into the morning of the procedure which consists of an\\n        enema or laxatives, either pills or powder dissolved in liquid, that\\n        will cause diarrhea. The procedure might need to be stopped and\\n        rescheduled if there is stool remaining in the colon due to an\\n        incomplete bowel prep because the physician can not adequately visualize\\n        the colon. During the procedure, the patient is sedated and the scope is\\n        used to examine the entire length of the colon looking for polyps,\\n        bleeding, or abnormal tissue. A biopsy or polyp removal can then be\\n        performed and the tissue sent to the lab for evaluation. The procedure\\n        usually takes thirty minutes to an hour followed by a one to two hour\\n        observation period. Complications include bloating, cramping, a reaction\\n        to anesthesia, bleeding, and a hole through the wall of the colon that\\n        may require repeat colonoscopy or surgery. Signs of a serious\\n        complication requiring urgent or emergent medical attention include\\n        severe pain in the abdomen, fever, bleeding that does not improve,\\n        dizziness, and weakness.[15]\\n\\nEndoscopy\\n\\nDuring an endoscopy, a gastroenterologist uses a camera that attaches\\n        to a long, thin tube called an endoscope to look inside the body.\\n\\nThey insert the endoscope through the mouth, down the throat, and into\\n        the esophagus. It sends images back to a screen for monitoring.\\n\\nA gastroenterologist might perform an endoscopy to investigate symptoms\\n        such as:\\n\\npersistent heartburn\\n\\nnausea and vomiting\\n\\nbleeding\\n\\nproblems with swallowing\\n\\nstomach pain\\n\\nunexplained weight loss\\n\\nSigmoidoscopy\\n\\nA procedure similar to a colonoscopy using a long thin tube with a\\n        camera (scope) passed through the anus but only intended to visualize\\n        the rectum and the last part of the colon closest to the rectum. All\\n        aspects of the procedure are the same as for a colonoscopy with the\\n        exception that this procedure only lasts ten to twenty minutes and is\\n        done without sedation. This usually allows for the patient to return to\\n        normal activities immediately after the procedure is finished.[16]\\n\\nEsophagogastroduodenoscopy (EGD)\\n\\nA procedure using a long thin tube with a camera that is passed through\\n        the mouth to view the esophagus (\"esophago-\"), stomach\\n        (\"gastro-\"), and the duodenum (\"duodeno-\"). It is\\n        also referred to as upper endoscopy or just endoscopy. The procedure is\\n        performed for further evaluation of symptoms including persistent\\n        heartburn, indigestion, vomiting blood, dark tarry stools, persistent\\n        nausea and vomiting, pain, difficulty swallowing, painful swallowing,\\n        and unexplained weight loss. It is also performed for further testing\\n        following a lab test that shows low hemoglobin levels without a known\\n        cause or an abnormal barium swallow. The procedure can be used to\\n        diagnose many disorders through direct visualization or tissue biopsy\\n        including esophageal varices, esophageal strictures, gastroesophageal\\n        reflux disease, Barrett\\'s esophagus, cancer, celiac disease,\\n        gastritis, peptic ulcer disease, and a H. pylori infection.\\n        Intra-operative techniques can then be used for treatment of certain\\n        disorders like banding esophageal varices or dilating esophageal\\n        strictures. The patient will likely be required to not eat or drink\\n        anything starting 4 hours prior to the procedure. Sedation is usually\\n        required for patient comfort. This procedure usually lasts around thirty\\n        minutes followed by a one to two hour observation period. Side effects\\n        include bloating, nausea, and a sore throat for 1 to 2 days.\\n        Complications are rare but include reaction to the anesthesia, bleeding,\\n        and a hole through the wall of the esophagus, stomach, or small\\n        intestine which could require surgery. Signs of a serious complication\\n        requiring urgent or emergent medical attention include chest pain,\\n        problems breathing, problems swallowing, throat pain that gets worse,\\n        vomiting with blood or the appearance of \"coffee-grounds\",\\n        worsening abdominal pain, bloody or black tarry stool, and\\n        fever.[17]\\n\\nEndoscopic Retrograde Cholangiopancreatography (ERCP)\\n\\nA procedure using a long thin tube with a camera passed through the\\n        mouth into the first part of the small intestine to locate, diagnose,\\n        and treat disorders related to the bile and pancreatic ducts. These\\n        ducts carry fluids that help with digesting food from the liver,\\n        gallbladder, and pancreas and can become narrowed or blocked as a result\\n        of gallstones, infection, inflammation, pancreatic pseudocysts, and\\n        tumors of the bile ducts or pancreas. As a result one may experience\\n        back pain, yellowing of the skin, and an abnormal lab test showing an\\n        elevated bilirubin level which could necessitate this procedure.\\n        However, the procedure is not recommended if the patient has acute\\n        pancreatitis unless the level of bilirubin remains high or is increasing\\n        which could suggest the blockage is still present. The patient will\\n        likely be required to not eat or drink anything starting 8 hours prior\\n        to the procedure. After the patient is sedated, the physician will pass\\n        the scope through the mouth, esophagus, stomach, and into the duodenum\\n        to locate the opening where the ducts drain into the small intestine.\\n        The physician can then inject dye into these ducts and take X-rays which\\n        show a real time view, via fluoroscopy, allowing the physician to locate\\n        and relieve the blockage. This is done through multiple techniques\\n        including cutting the opening and creating a bigger hole for drainage,\\n        removing gallstones and other debris, dilating narrow parts of the\\n        ducts, or placing a stent which keeps the ducts open. The physician can\\n        also take a biopsy of the ducts to evaluate for cancer, infection, or\\n        inflammation. Side effects include bloating, nausea, or a sore throat\\n        for one to two days. Complications include pancreatitis, infection of\\n        the bile ducts or gallbladder, bleeding, reaction to the anesthesia, and\\n        perforation of any structures that the scope or its instruments pass but\\n        particularly the duodenum, bile duct, and pancreatic duct. Signs of a\\n        serious complication requiring urgent or emergent medical attention\\n        include bloody or black tarry stool, chest pain, fever, worsening\\n        abdominal pain, worsening throat pain, problems breathing, problems\\n        swallowing, vomit that is bloody or looks like coffee-grounds. Most of\\n        the time complications from this procedure require hospitalization for\\n        treatment.[18]\\n\\nPolypectomy\\n\\nDuring a polypectomy, a gastroenterologist will remove one or more\\n        polyps from the lining of the bowel.\\n\\nPolyps are noncancerous growths that can develop on the colon. They are\\n        very common, affecting 30%Trusted Source of those over the age of 50\\n        years in the United States.\\n\\nThe gastroenterologist will either remove the polyps with wire loop\\n        forceps or use an electric current to burn them off during a\\n        colonoscopy.\\n\\nEsophageal dilation\\n\\nDuring esophageal dilation, a gastroenterologist will stretch out a\\n        narrowed area of the esophagus.\\n\\nAcid reflux can scar this muscular tube, narrowing it and making it\\n        hard for a person to swallow food.\\n\\nLayers of excess tissue, cancer of the esophagus, and scarring from\\n        radiation treatment can all lead to the same problem.\\n\\nThe gastroenterologist stretches the tube by using a plastic dilator or\\n        inflating a balloon. They will usually carry this out during an\\n        endoscopy.\\n\\nThe gastroenterologist may sedate the person for the procedure.\\n        Alternatively, they may apply a local anesthetic spray to the back of\\n        the person’s throat.\\n\\nDisorders\\n\\nEsophagus\\n\\nGastroesophageal reflux disease (GERD)\\n\\nA condition that is a result of stomach contents consistently coming\\n        back up into the esophagus causing troublesome symptoms or\\n        complications.[19] Symptoms are considered troublesome based on how\\n        disruptive they are to a patient\\'s daily life and well-being. This\\n        definition was standardized by the Montreal Consensus in 2006.[20]\\n        Symptoms include a painful feeling in the middle of the chest and\\n        feeling stomach contents coming back up into the mouth. Other symptoms\\n        include chest pain, nausea, difficulty swallowing, painful swallowing,\\n        coughing, and hoarseness.[21] Risk factors include obesity, pregnancy,\\n        smoking, hiatal hernia, certain medications, and certain foods.\\n        Diagnosis is usually based on symptoms and medical history, with further\\n        testing only after treatment has been ineffective. Further diagnosis can\\n        be achieved by measuring how much acid enters the esophagus or looking\\n        into the esophagus with a scope. Treatment and management options[19]\\n        include lifestyle modifications, medications, and surgery if there is no\\n        improvement with other interventions. Lifestyle modifications include\\n        not lying down for three hours after eating, lying down on the left\\n        side, elevating head while laying by elevating head of the bed or using\\n        extra pillows, losing weight, stopping smoking, and avoiding coffee,\\n        mint, alcohol, chocolate, fatty foods, acidic foods, and spicy foods.\\n        Medications include antacids, proton pump inhibitors, H2 receptor\\n        blockers. Surgery is usually a Nissen fundoplication and is performed by\\n        a surgeon. Complications of longstanding GERD can include inflammation\\n        of the esophagus that may cause bleeding or ulcer formation, narrowing\\n        of the esophagus leading to swallowing issues, a change in the lining of\\n        the esophagus that can increase the chances of developing cancer\\n        (Barrett\\'s esophagus), chronic cough, asthma, inflammation of the\\n        larynx leading to hoarseness, and wearing away of tooth enamel leading\\n        to dental issues.[19][21]\\n\\nBarrett\\'s esophagus\\n\\nA condition in which the lining of the esophagus changes to look more\\n        like the lining of the intestine and increases the risk of developing\\n        esophageal cancer.[22] There are no specific symptoms although symptoms\\n        of GERD may be present for years prior as it is associated with a\\n        10–15% risk of Barrett\\'s esophagus.[22] Risk factors include\\n        chronic GERD for more than 5 years, being age 50 or older, being\\n        non-Hispanic white, being male, having a family history of this\\n        disorder, belly fat, and a history of smoking.[23] Protective factors\\n        include H. pylori infection, frequent use of aspirin or other\\n        non-steroidal anti-inflammatory drugs, and diets high in fruits and\\n        vegetables.[24] Diagnosis can be made by looking into the esophagus with\\n        a scope and possibly taking a biopsy of the lining of the esophagus.\\n        Treatment includes managing GERD, destroying abnormal parts of the\\n        esophagus, removing abnormal tissue in the esophagus, and removing part\\n        of the esophagus as performed by a general surgeon.[22] Further\\n        management could include periodic surveillance with repeat scopes at\\n        certain intervals determined by the physician, likely not more\\n        frequently than every three to five years.[23] Complications from this\\n        disorder can result in a type of cancer called esophageal\\n        adenocarcinoma.[24]\\n\\nGastroenterologist\\n\\nA gastroenterologist is a specialist in gastrointestinal diseases.\\n        Gastroenterologists treat all the organs in your digestive system,\\n        including your GI tract (esophagus, stomach and intestines) and biliary\\n        organs (your liver, bile ducts, pancreas and gallbladder.)\\n\\nWhat is a gastroenterologist?\\n\\nA gastroenterologist is a medical doctor who specializes in conditions\\n        affecting your digestive system. Gastroenterologists begin as general\\n        physicians. They complete three years of medical residency after medical\\n        school, treating all kinds of diseases and conditions. To become\\n        gastroenterologists, they complete three years of additional study after\\n        that. Then they receive a special certification. This certification\\n        designates them as experts in gastrointestinal diseases and conditions.\\n        It also qualifies them to perform certain exams and procedures that\\n        general physicians don’t, and to interpret the results.\\n\\nWhat is a pediatric gastroenterologist?\\n\\nA pediatric gastroenterologist is a pediatrician first, with extra\\n        training in gastroenterology. Pediatricians spend their three years of\\n        medical residency practicing general pediatric medicine, treating\\n        babies, children and teens for all kinds of conditions. Pediatric\\n        gastroenterologists study for three more years after that to earn their\\n        certification. They study the gastrointestinal and liver conditions that\\n        are most relevant to growing children, with a special emphasis on\\n        nutrition. They learn how to interpret children’s signs and\\n        symptoms and how to perform exams and minor procedures inside their\\n        smaller bodies.\\n\\nWhat part of the body does a gastroenterologist focus on?\\n\\nThe name, gastroenterologist, refers to your stomach and intestines.\\n        (“Gastro” means stomach, “entero” means\\n        intestines and “ologist” means specialist.) These are the\\n        organs most commonly involved in gastrointestinal diseases (diseases\\n        affecting your digestive tract). But your digestive system also includes\\n        your mouth and esophagus, where you swallow your food. And it includes\\n        the organs in your biliary system, which supply bile and digestive\\n        enzymes to your intestines. These include your gallbladder, pancreas,\\n        liver and bile ducts. Gastroenterologists treat all of these\\n        organs.\\n\\nWhy would you go to a gastroenterologist?\\n\\nMaybe you have symptoms related to your digestive system that your\\n        general physician hasn’t been able to diagnose or treat\\n        effectively. Or maybe you already know that you have a serious\\n        gastrointestinal condition and you want expert care for it. There are\\n        many benefits to seeing a specialist with extra training in the type of\\n        condition that’s affecting you. Gastroenterologists perform more\\n        gastrointestinal research, examinations and procedures than other\\n        doctors do. As a result, they are more likely to make accurate\\n        diagnoses, identify problems sooner and treat them with fewer\\n        complications.\\n\\nWhat conditions do gastroenterologists diagnose and treat?\\n\\nCommon conditions that gastroenterologists treat include:\\n\\nGastrointestinal diseases (affecting your stomach and intestines), such\\n        as:\\n\\nIrritable bowel syndrome (IBS).\\n\\nInflammatory bowel disease (IBD).\\n\\nCeliac disease.\\n\\nSmall intestinal bacterial overgrowth (SIBO).\\n\\nFood allergies and intolerances.\\n\\nStomach ulcers.\\n\\nDiverticulitis.\\n\\nAppendicitis.\\n\\nColorectal polyps.\\n\\nHemorrhoids.\\n\\nEsophageal disorders, such as:\\n\\nSwallowing difficulties.\\n\\nGastroesophageal reflux disease (GERD).\\n\\nEsophagitis.\\n\\nHiatal hernias.\\n\\nLiver diseases, such as:\\n\\nViral hepatitis.\\n\\nToxic hepatitis.\\n\\nFatty liver disease.\\n\\nCirrhosis.\\n\\nPancreatic, biliary and gallbladder diseases, such as:\\n\\nGallstones.\\n\\nCholecystitis.\\n\\nPancreatitis.\\n\\nWhat symptoms should I tell my gastroenterologist about?\\n\\nYou might come to a gastroenterologist with common gastrointestinal\\n        symptoms, such as:\\n\\nAbdominal pain.\\n\\nBloated stomach.\\n\\nIndigestion.\\n\\nGas and gas pain.\\n\\nNausea and vomiting.\\n\\nRectal bleeding.\\n\\nDiarrhea.\\n\\nConstipation or difficulty pooping.\\n\\nUnexplained weight loss or weight gain.\\n\\nHeartburn.\\n\\nJaundice.\\n\\nWhat does a gastroenterologist do?\\n\\nA gastroenterologist may begin by physically examining you. They may\\n        feel and listen to your abdominal organs from the outside, or insert a\\n        finger into your rectum. They may order follow-up tests, such as blood\\n        tests, poop tests or imaging tests like GI X-ray exams that take\\n        pictures of your organs from the outside. But when they need more\\n        information than these tests can provide, gastroenterologists are\\n        specially trained to perform endoscopic procedures. These are exams that\\n        look inside your body with an endoscope — a tiny video camera on\\n        the end of a long, thin, flexible tube they insert into your body.\\n\\nEndoscopic procedures include:\\n\\nUpper endoscopy or EGD: an examination of your upper GI tract, from\\n        your throat down through your stomach to your upper small intestine\\n        (duodenum).\\n\\nEnteroscopy: examination of your small intestine.\\n\\nColonoscopy: an examination of your lower GI tract or large\\n        intestine.\\n\\nEndoscopic ultrasound: an upper or lower endoscopy with an ultrasound\\n        wand attached to the endoscope, which helps to visualize your biliary\\n        system.\\n\\nERCP: endoscopic retrograde cholangiopancreatography, an upper\\n        endoscopy that extends into your bile ducts and then takes fluoroscopic\\n        X-rays of your biliary system (video X-rays).\\n\\nPolypectomy: removal of polyps from your stomach or intestines during\\n        endoscopy.\\n\\nEndoscopy exams give gastroenterologists a more detailed view inside\\n        your body to see how things are working and what might be causing your\\n        symptoms. But that’s not all — gastroenterologists can also\\n        take tissue samples and perform minor interventions with tiny tools they\\n        pass through the endoscope. This makes endoscopy an intermediate step\\n        before surgery that gastroenterologists can take to treat your\\n        condition. And it’s often enough. Gastroenterologists can relieve\\n        blockages, open up narrowed channels, stop bleeding and remove tumors\\n        through the endoscope. They can also interpret the biopsy results.\\n\\nDo gastroenterologists treat cancer?\\n\\nA gastroenterologist is likely to be the first to discover if you have\\n        cancer in any of the organs of your digestive system. Through endoscopy\\n        and biopsy, gastroenterologists locate, remove and identify cancerous\\n        tumors throughout your GI tract and biliary system. If they do find\\n        cancer, they’ll likely conduct further endoscopic procedures to\\n        help stage it. That means they’ll take additional tissue samples\\n        to find out if the cancer has spread. In some cases, gastroenterologists\\n        can treat certain tumors through the endoscope, either by dissecting\\n        them or by targeting them with lasers.\\n\\nGastroenterologists may diagnose, stage or treat:\\n\\nStomach cancer.\\n\\nColorectal cancer.\\n\\nGastrointestinal stromal tumors.\\n\\nDuodenal cancer.\\n\\nSmall intestine cancer.\\n\\nEsophageal cancer.\\n\\nLiver cancer.\\n\\nPancreatic cancer.\\n\\nGallbladder cancer.\\n\\nBile duct cancer.\\n\\nBut you might have a gastroenterologist on your care team for other\\n        types of cancer too. Your team might need a gastroenterologist to use\\n        their endoscopic skills to help look for signs of cancer spreading\\n        beyond the original site. Your team may also want to consult a\\n        gastroenterologist regarding the potential side effects of cancer\\n        treatment. For example, chemotherapy and radiation therapy can cause\\n        mucositis or radiation enteritis, painful inflammation in your GI tract.\\n        Symptoms such as nausea and vomiting, diarrhea, constipation and\\n        malnutrition are also common, and gastroenterologists can help.\\n\\nWhat is the difference between a gastroenterologist and a\\n        proctologist?\\n\\nProctologists are surgeons who specialize in conditions affecting your\\n        large intestine. Your large intestine includes your colon, rectum and\\n        anus. The name, proctologist, refers specifically to the lower part of\\n        your large intestine — your rectum and anus. This may be one\\n        reason why it’s not used as much anymore. These days, you’re\\n        more likely to see a colorectal surgeon for conditions affecting your\\n        colon, rectum or anus that may require surgery. Colorectal surgeons tend\\n        to have a broader range of specialization than proctologists. They may\\n        treat conditions affecting your entire gastrointestinal tract.\\n\\nThe main difference between a colorectal surgeon or a proctologist vs.\\n        a gastroenterologist is that they train as surgeons. After medical\\n        school, they complete five years of surgical residency practicing\\n        general surgery before going on to receive special training in\\n        colorectal procedures. While they may treat you in other ways, such as\\n        conducting an examination or prescribing medication, they are specially\\n        prepared for operative procedures. A gastroenterologist may be able to\\n        tell you if you need surgery, but they wouldn’t be able to perform\\n        the operation. Instead, they’d likely refer you to a colorectal\\n        surgeon.\\n\\nHow should you prepare for a colonoscopy?\\n\\nPreparation for a colonoscopy involves several steps. This includes\\n        dietary changes, drinking extra water, and consuming a special drink to\\n        help empty the bowels.\\n\\nA colonoscopy is a type of imaging study in which a doctor uses a\\n        colonoscope to examine the colon’s lining. They may also remove\\n        polyps or tissue for a biopsy at the same time.\\n\\nA doctor may recommend a colonoscopy to evaluate the colon for\\n        cancerous lesions, identify areas of bleeding, or diagnose other\\n        gut-related disorders.\\n\\nBefore the procedure, a doctor will prescribe a colonoscopy\\n        preparation. There are various approaches, but they all aim to empty the\\n        colon of fecal matter so that a doctor can view it clearly. The\\n        preparation may start up to a week before the colonoscopy.\\n\\nThe colonoscopy procedure involves inserting a thin scope with a light\\n        on the end into the rectum. The doctor will advance the scope through\\n        the colon to examine it.\\n\\nIn the week before the procedure, the person will follow several steps.\\n        It is essential to prepare as recommended because incomplete preparation\\n        can affectTrusted Source the results.\\n\\nIt may mean canceling the procedure. If the colonoscopy goes ahead, the\\n        doctor may miss a lesion, or the person may need to repeat the\\n        procedure.\\n\\nOne week before\\n\\nA doctor is likely to recommend specific dietary changes in the week\\n        leading up to a colonoscopy.\\n\\nWhile canned or cooked vegetables are acceptable to eat, people should\\n        avoid the following foods during this week:\\n\\ngrains, including brown rice, oatmeal, and wheat bread\\n\\nnuts\\n\\nseeds, including poppy or sesame seeds\\n\\nwhole kernel corn\\n\\nraw fruits and vegetables\\n\\nA doctor may also recommend that people stop taking certain medications\\n        that could increase the risk of bleeding during a colonoscopy. Examples\\n        include blood thinners, such as warfarin and clopidogrel, and\\n        nonsteroidal anti-inflammatory drugs (NSAIDs), such as ibuprofen.\\n\\nThe gastroenterologist will work with the individual during the\\n        consultation to decide how long they should suspend using a specific\\n        medication before and after the colonoscopy.\\n\\nThe consultation also is a good time to ask any questions about the\\n        procedure, including the risks and benefits.\\n\\nTwo days before\\n\\nAt this point, people should drink plenty of water or other liquids to\\n        ensure that they do not become dehydrated when they begin their bowel\\n        prep. Drinking around eight 8-ounce glasses of water a day can help\\n        reduce the risk of dehydration.\\n\\nA doctor may also recommend avoiding red or orange foods at this point,\\n        as they could make a person’s colon look like it is\\n        bleeding.\\n\\n24 hours before\\n\\nIt is crucial to consume only clear liquids in the 24 hours leading up\\n        to the colonoscopy.\\n\\nExamples of acceptable clear liquids include:\\n\\nclear broth or bouillon\\n\\ncoffee or tea, but with no milk or creamer added\\n\\nelectrolyte-containing beverages, such as sports drinks\\n\\ngelatin\\n\\npopsicles\\n\\nstrained fruit juices without pulp\\n\\nHere, get some tips on following a clear liquid diet.\\n\\nIn general, if it is possible to see through the food or drink, it\\n        should be acceptable within a clear liquid diet. However, a person\\n        should always consult their doctor if they have any questions about\\n        specific foods.\\n\\nA doctor will often prescribe an oral solution to drink to help clean\\n        out the colon. This solution will cause the person to have frequent\\n        bowel movements until there is no fecal matter left in their colon.\\n        Examples of oral solutions includeTrusted Source GoLytely, Colyte,\\n        NuLytely, TriLyte, Suprep, and Clenpiq.\\n\\nThese solutions are likely to have different dosage methods. Sometimes,\\n        a doctor will prescribe drinking the entire solution the night before\\n        the colonoscopy. Other times, they will recommend drinking one portion\\n        of the solution the night before and the remainder on the day of the\\n        examination.\\n\\nThe solution is intended to make a person go to the bathroom. Their\\n        bowel movements will turn into diarrhea.\\n\\nThe bowel prep can sometimes make a person feel nauseous, bloated,\\n        thirsty, or dizzy. If this occurs, the individual should give themselves\\n        a break of at least 30 minutes from drinking the prep and slowly sip on\\n        clear fluids. If they can tolerate returning to drinking the prep, they\\n        should.\\n\\nWith a doctor’s permission, a person potentially can add a\\n        powdered drink solution that is not red, blue, or purple to the prep to\\n        improve its taste.\\n\\nDuring the bowel prep, a person may benefit from:\\n\\nstaying near a bathroom so that they can go to the toilet easily\\n\\nwearing elastic-waist pants that are easier to pull down\\n\\ndrinking clear liquids after swallowing the prep to remove the\\n        unpleasant taste\\n\\napplying petroleum jelly around the anal opening or using baby wipes to\\n        reduce irritation to the anus\\n\\nThe bowel movements will eventually turn clear or yellow. This change\\n        signals that a person’s colon is likely to be clear of fecal\\n        matter.\\n\\nIn case of problems with constipation, a doctor may also recommend\\n        using a stool softener to make stools easier to pass.\\n\\nWhat to expect at a colonoscopy appointment\\n\\nBy the time of the colonoscopy appointment, a doctor will expect a\\n        person to be passing only clear to yellow-tinted liquid from the\\n        bowel.\\n\\nThe individual’s doctor will explain the procedure. The person\\n        will also meet the nursing staff who will be in the room with them\\n        during their colonoscopy, as well as anesthesia representatives who will\\n        be providing sedation.\\n\\nA member of the medical staff will insert an intravenous (IV) catheter\\n        into the person’s vein so they can receive medications during the\\n        procedure.\\n\\nThe person will then go to the colonoscopy suite. An anesthesiologist\\n        who is part of the procedure team will administer sedatives to the\\n        person via the IV and be responsible for keeping their airway safe\\n        throughout the procedure.\\n\\nOnce the person is sedated, a doctor will insert the colonoscope\\n        through the rectum and advance it to begin the examination. They will\\n        look for irregularities in the colon’s lining.\\n\\nThe gastroenterologist will evaluate each polyp individually. Based on\\n        its size, shape, and location, the doctor will determine the best\\n        technique to remove the polyp. They may also take a sample of tissue for\\n        testing in the laboratory, known as a biopsy.\\n\\nIdeally, a person’s colon prep will be so effective that a doctor\\n        can advance the colonoscope far enough into the colon to see where the\\n        small and large intestines join.\\n\\nWhen the doctor has completed the examination, they will remove the\\n        scope. The anesthesia professional will stop administering medication,\\n        and the person will wake up.\\n\\nIt is not unusual to feel sleepy or groggy after the procedure. For\\n        that reason, a person should always have someone else available to drive\\n        them home from the appointment.\\n\\nResults after a colonoscopy appointment\\n\\nAfter a colonoscopy, the person may have to attend another appointment\\n        to discuss the results or any findings of tests.\\n\\nDuring the appointment, the doctor will explain any findings. This\\n        might include reviewing images from the colonoscopy.\\n\\nPossible results may be:\\n\\nNegative: There are no growths or polyps.\\n\\nGrowths or polyps: The doctor has removed polyps and may wish to follow\\n        up after testing.\\n\\nBowel cancer: The doctor may have taken a biopsy. If they suspect\\n        cancer, they will talk to the individual about what to do next.\\n\\nOther conditions: If there are signs of Crohn’s disease,\\n        diverticulitis, ulcerative colitis, or another condition, the doctor\\n        will discuss the next steps with the person.\\n\\nIf a colonoscopy is positive, meaning cancerous or precancerous cells\\n        are present, the doctor may recommend further interventions. These can\\n        include additional colonoscopies or even surgery.\\n\\nRisks from a colonoscopy\\n\\nThere are some risks involved in a colonoscopy. The doctor should\\n        explain these to the person before the procedure.\\n\\nThey includeTrusted Source:\\n\\ncomplications relating to anesthesia\\n\\nrectal tears\\n\\nbleeding\\n\\npain\\n\\nbloating\\n\\ninfection\\n\\npost-polypectomy electrocoagulation syndrome (PPES)\\n\\ncolon wall perforation\\n\\nSevere complications are rare, and experts consider the procedure\\n        relatively safe.\\n\\nPPES can cause severe abdominal pain several hours after the procedure.\\n        Treatment usually involves bowel rest and antibiotics.\\n\\nWhat you need to know about a polypectomy\\n\\nPolypectomy is the removal of a polyp. The most common types of polyp\\n        removal surgeries include uterine polypectomies and colon\\n        polypectomies.\\n\\nHowever, a doctor can perform a polypectomy on any area of the body\\n        that develops polyps, such as the nose or stomach. A polypTrusted Source\\n        is a growth that begins in the tissue and extends into the hollow space\\n        around it.\\n\\nA polypectomy involves removing polyps that may be causing symptoms,\\n        may be cancerous, or require examination.\\n\\nFAST FACTS ON POLYPECTOMIES\\n\\nMost polyps are benign growths, which means they do not contain\\n        cancer.\\n\\nIn most cases, a doctor can remove a polyp while the person is\\n        awake.\\n\\nThe right technique for polyp removal depends on the size and location\\n        of the polyp.\\n\\nPolypectomies are safe, with a low rate of complications.\\n\\nTypes of polypectomy\\n\\nPablo Benitez Lope/EyeEm/Getty Images\\n\\nThe two most common types of polypectomy are uterine polypectomies and\\n        colon polypectomies.\\n\\nA uterine polypectomy is a procedure to remove polyps in the\\n        endometrial tissue, the tissue that lines the inside of the uterus. A\\n        colon polypectomy involves removing polyps in the colon.\\n\\nPolyps may also develop in other regions of the body. Some other\\n        relatively common sites of polypectomy include:\\n\\nthe nose\\n\\nthe cervix\\n\\nthe vocal cords\\n\\nthe stomach\\n\\nWhat are polyps?\\n\\nPolyps grow out of tissue into hollow spaces in the body. For example,\\n        colon polyps begin in the tissue of the colon then extend into the\\n        hollow space inside it.\\n\\nMost are benign, but some are cancerous or precancerous. It is not\\n        possible to rule out cancer without examining a polyp, so many doctors\\n        recommend routine removal to test for cancer.\\n\\nAre they common?\\n\\nPolyps are common, and most people do not know they have them.\\n        Approximately 20–30% of people in the United States have colon\\n        polyps.\\n\\nUterine polyps are most common in people aged 40–49 yearsTrusted\\n        Source. About 1–5% are cancerous, with the risk of cancerous\\n        uterine polyps being higher in people who are postmenopausal.\\n\\nHow big do they get?\\n\\nEven when they are not cancerous, some polyps can grow very large. When\\n        they do, they may alter blood flow, put pressure on organs, and cause a\\n        range of other symptoms.\\n\\nSurgery\\n\\nPreparation for a polypectomy depends on the surgical technique and the\\n        location of the polyps.\\n\\nPeople undergoing removal of uterine polyps with local anesthesia may\\n        need no special preparation.\\n\\nHowever, colon polypectomy requires the colon to be empty. People may\\n        need to use enemas, laxatives, or both in the 12–24 hours before\\n        surgery.\\n\\nSurgical techniques and what to expect\\n\\nMany people prefer to be awake for the procedure. Others may want to\\n        receive general anesthesia. In this case, the doctor will give the\\n        person a sedative, usually through an IV needle. This makes them feel\\n        drowsy and relaxed.\\n\\nDoctors can remove most polyps with an endoscope. This is a tube the\\n        doctor inserts into the body, eliminating the need for a large incision.\\n        For a uterine polypectomy, a doctor inserts a hysteroscope through the\\n        vagina into the cervix and uterus. A camera helps guide the scope to the\\n        polyp.\\n\\nDuring a colon polypectomyTrusted Source, the doctor inserts the\\n        colonoscope through the rectum. As with a uterine polypectomy, a camera\\n        helps the doctor locate the polyp.\\n\\nDoctors use different surgical techniques for removing polyps. The\\n        specific removal technique is unlikely to affect the person’s\\n        experience of the surgery.\\n\\nSome options include:\\n\\nHot snare polypectomy: Hot snare polypectomy (HSP) is the preferred\\n        treatment for most polyps and employs a heated snare. A snare is a loop\\n        that can grab and remove the polyp. The surgeon may also use\\n        electrocautery to burn away any remaining polyp tissue.\\n\\nCold snare polypectomy: Cole snare polypectomy (CSP) uses a cold snare\\n        and is preferred for diminutive (1-5 mm.) polyps.\\n\\nCold or hot forceps polypectomy: A more outmoded technique uses forceps\\n        to pull the polyp loose, to remove small polyps. The surgeon will also\\n        use a wire to remove the portion of the polyp that extends into the\\n        tissue, or if hot, a procedure called electrocautery to burn away any\\n        remaining polyp tissue and prevent bleeding.\\n\\nA person may feel pressure or pulling during the procedure, but they\\n        should feel no pain. Depending on the location of the polyp and other\\n        factors, a doctor may give the person pain-blocking medication before,\\n        during, or after the procedure.\\n\\nWhen polyps are very large, removing them through an incision may be\\n        necessary. This procedure is more complicated and typically requires\\n        general anesthesia.\\n\\nRecovery\\n\\nRecovery from a colon polypectomy is fairly quick, and most people can\\n        get back to their usual diet immediately. People may feel some mild\\n        pain, gassiness, or cramping following the procedure, particularly\\n        immediately afterward, but these symptoms are typically\\n        short-lived.\\n\\nTaking the pain-relieving medication the doctor prescribes can\\n        help.\\n\\nIt is normal to experience some bleeding for a few days following a\\n        uterine polypectomy, but call a doctor if the bleeding is very heavy,\\n        stops and then starts again, or has a foul odor that could indicate an\\n        infection.\\n\\nAfter a surgeon removes the polyp, they will send it to a lab for\\n        testing. If the polyp is not cancerous, the person may undergo an exam\\n        following the removal but will likely need no further treatment.\\n\\nHow do you know if you need one?\\n\\nMost people with polyps do not know they have them.\\n\\nWhen they cause symptoms, a doctor may recommend screening tests. In\\n        some cases, doctors discover polyps as part of screening for something\\n        else. This means that people are more likely to undergo a polypectomy\\n        when they also undergo a screening test that can detect polyps.\\n\\nPeople who have symptoms related to their polyps, such as pain or\\n        bleeding, usually need to have the polyps removed.\\n\\nRisks\\n\\nLike all surgeries, polypectomies carry some risks. These\\n        include:\\n\\nOrgan perforation: This occurs when a surgeon punctures the organ they\\n        are operating on. This can be fatal, but is rare.\\n\\nInfection: A polypectomy creates a wound, and any wound can become\\n        infected. Infection is more likely when people do not follow\\n        doctor’s advice after surgery or are already not in optimal\\n        health.\\n\\nExcessive bleeding: Sometimes the wound does not properly heal, causing\\n        excessive bleeding.\\n\\nIncomplete removal: In some cases, the first procedure may leave some\\n        tissue behind, necessitating a second polypectomy.\\n\\nQuestions to Ask Your Gastroenterologist\\n\\nYou should ask questions, too. Here are a few you can try:\\n\\nWill I need any more tests?\\n\\nWhat are the usual treatments for my condition?\\n\\nWill I need a colonoscopy or endoscopy?\\n\\nWhat do I do if I have a symptom flare-up before I see you again?\\n\\nWhat are the signs of a serious complication?\\n\\nAre there any medications that could make my problem worse?\\n\\nWill I need to change my diet?\\n\\nYour Physical Exam\\n\\nThe gastroenterologist will look at you to try to find the cause of\\n        your symptoms. You’ll lie on the exam table and relax. Your doctor\\n        will press down on the skin around your belly. They’ll listen for\\n        odd bowel sounds and feel for any masses or tenderness. They may ask you\\n        to take deep breaths or cough during your exam.\\n\\nThey might also put a finger into your rectum to feel for any bulges or\\n        masses, and to check the muscle tone.\\n\\nWhat Are the Next Steps?\\n\\nThe gastroenterologist may send you for X-rays, a CT scan, or blood and\\n        stool tests. They may give you a stool test. Among other things, a stool\\n        culture can check how well your body absorbs and uses fat. They may also\\n        test your motility (how food moves through your digestive system).\\n\\nThe doctor might also suggest procedures to diagnose your problem.\\n        They’ll schedule these tests for later and tell you how to\\n        prepare:\\n\\nBarium swallow or enema: Barium is a liquid that highlights areas\\n        inside your body on a scan. The doctor may give you barium to drink to\\n        check your esophagus, stomach, or upper small intestine. Or you may need\\n        one to check your colon or rectum. An X-ray will show the doctor your\\n        organs as they move.\\n\\nUpper Endoscopy: This long, thin tube with a tiny camera on the end\\n        goes through your mouth so the doctor can look at your upper digestive\\n        tract or take a biopsy (tissue sample). You may get an endoscopy if you\\n        have persistent heartburn, belly pain, vomiting, or other problems that\\n        don’t go away.\\n\\nColonoscopy: The doctor puts a thin scope with a camera on the end into\\n        your bottom. It goes into your colon, rectum, or large intestine to look\\n        for polyps or bleeding, get rid of any polyps, or take a biopsy. Your\\n        doctor may order a colonoscopy to check for problems such as\\n        inflammatory bowel disease, or problems that may cause changes in how\\n        often and how you poop, belly pain, or blood in your stool.\\n\\nEnteroscopy: You may have this procedure if an endoscopy or a\\n        colonoscopy fails to find anything. You swallow a tiny video capsule\\n        that transmits pictures of the insides of your digestive tract. An\\n        enteroscopy may reveal causes of bleeding and ulcers (sores) caused by\\n        Crohn’s disease, among other things.\\n\\nMedications\\n\\nYour gastroenterologist may suggest over-the-counter antacids, or\\n        prescribe medications to treat your heartburn, gas, constipation, or\\n        other symptoms. They often prescribe proton pump inhibitors, H2\\n        blockers, or metoclopramide, which helps with motility.\\n\\nLifestyle Changes\\n\\nYour gastroenterologist may tell you to do these things to manage your\\n        symptoms:\\n\\nCut back on caffeine.\\n\\nDon’t eat foods that trigger symptoms.\\n\\nEat more fiber.\\n\\nExercise regularly.\\n\\nFind ways to manage your stress.\\n\\nPoop when you have the urge.\\n\\nWhat You Can Do to Help\\n\\nFollow your gastroenterologist’s lifestyle tips to feel better,\\n        and get regular colon screenings to spot early signs of cancer.\\n\\nLet the doctor know if you have blood in your stool, changes to your\\n        bowel movements, fatigue, or weight loss you can’t explain.', metadata={'source': 'https://html-starter-alpha-two.vercel.app/'})]"
      ]
     },
     "execution_count": 8,
     "metadata": {},
     "output_type": "execute_result"
    }
   ],
   "source": [
    "data"
   ]
  },
  {
   "cell_type": "markdown",
   "id": "bf762b18",
   "metadata": {},
   "source": [
    "### Text Splitting"
   ]
  },
  {
   "cell_type": "code",
   "execution_count": 43,
   "id": "4844f10e",
   "metadata": {},
   "outputs": [],
   "source": [
    "from langchain.text_splitter import RecursiveCharacterTextSplitter\n",
    "\n",
    "text_splitter = RecursiveCharacterTextSplitter(\n",
    "    separators = [\"\\n\\n\", \"\\n\", \" \"], \n",
    "    chunk_size = 1500,\n",
    "    chunk_overlap = 300\n",
    ")"
   ]
  },
  {
   "cell_type": "code",
   "execution_count": 44,
   "id": "e3b763d4",
   "metadata": {},
   "outputs": [],
   "source": [
    "docs = text_splitter.split_documents(data)"
   ]
  },
  {
   "cell_type": "code",
   "execution_count": 45,
   "id": "a987f0d3",
   "metadata": {},
   "outputs": [
    {
     "data": {
      "text/plain": [
       "41"
      ]
     },
     "execution_count": 45,
     "metadata": {},
     "output_type": "execute_result"
    }
   ],
   "source": [
    "len(docs)"
   ]
  },
  {
   "cell_type": "code",
   "execution_count": 46,
   "id": "047383e4",
   "metadata": {},
   "outputs": [
    {
     "data": {
      "text/plain": [
       "Document(page_content='Gastroenterology (from the Greek gastḗr- \"belly\",\\n        -énteron \"intestine\", and -logía \"study\\n        of\") is the branch of medicine focused on the digestive system and\\n        its disorders.[1] The digestive system consists of the gastrointestinal\\n        tract, sometimes referred to as the GI tract, which includes the\\n        esophagus, stomach, small intestine and large intestine as well as the\\n        accessory organs of digestion which include the pancreas, gallbladder,\\n        and liver.[2][3]\\n\\nThe digestive system functions to move material through the GI tract\\n        via peristalsis, break down that material via digestion, absorb\\n        nutrients for use throughout the body, and remove waste from the body\\n        via defecation.[3] Physicians who specialize in the medical specialty of\\n        gastroenterology are called gastroenterologists or sometimes GI\\n        doctors.\\n\\nSome of the most common conditions managed by gastroenterologists\\n        include gastroesophageal reflux disease, gastrointestinal bleeding,\\n        irritable bowel syndrome, inflammatory bowel disease (IBD) which\\n        includes Crohn\\'s disease and ulcerative colitis, peptic ulcer\\n        disease, gallbladder and biliary tract disease, hepatitis, pancreatitis,\\n        colitis, colon polyps and cancer, nutritional problems, and many\\n        more.\\n\\nDifferences Between Gastroenterology and Gastrointestinal', metadata={'source': 'https://html-starter-alpha-two.vercel.app/'})"
      ]
     },
     "execution_count": 46,
     "metadata": {},
     "output_type": "execute_result"
    }
   ],
   "source": [
    "docs[0]"
   ]
  },
  {
   "cell_type": "code",
   "execution_count": 47,
   "id": "43fe9e45",
   "metadata": {},
   "outputs": [
    {
     "data": {
      "text/plain": [
       "1411"
      ]
     },
     "execution_count": 47,
     "metadata": {},
     "output_type": "execute_result"
    }
   ],
   "source": [
    "len(docs[0].page_content)"
   ]
  },
  {
   "cell_type": "code",
   "execution_count": 48,
   "id": "b94d94b6",
   "metadata": {},
   "outputs": [
    {
     "name": "stdout",
     "output_type": "stream",
     "text": [
      "Chunk length: 1411\n",
      "Chunk length: 1479\n",
      "Chunk length: 1486\n",
      "Chunk length: 1488\n",
      "Chunk length: 571\n",
      "Chunk length: 1462\n",
      "Chunk length: 717\n",
      "Chunk length: 1087\n",
      "Chunk length: 1489\n",
      "Chunk length: 836\n",
      "Chunk length: 53\n",
      "Chunk length: 1464\n",
      "Chunk length: 1343\n",
      "Chunk length: 1240\n",
      "Chunk length: 1455\n",
      "Chunk length: 956\n",
      "Chunk length: 1486\n",
      "Chunk length: 1061\n",
      "Chunk length: 1498\n",
      "Chunk length: 1492\n",
      "Chunk length: 1412\n",
      "Chunk length: 1491\n",
      "Chunk length: 952\n",
      "Chunk length: 1009\n",
      "Chunk length: 1492\n",
      "Chunk length: 1428\n",
      "Chunk length: 1454\n",
      "Chunk length: 1428\n",
      "Chunk length: 1467\n",
      "Chunk length: 1466\n",
      "Chunk length: 1408\n",
      "Chunk length: 1447\n",
      "Chunk length: 1326\n",
      "Chunk length: 1392\n",
      "Chunk length: 1411\n",
      "Chunk length: 1421\n",
      "Chunk length: 1387\n",
      "Chunk length: 1463\n",
      "Chunk length: 1408\n",
      "Chunk length: 1262\n",
      "Chunk length: 1204\n"
     ]
    }
   ],
   "source": [
    "for chunk in docs:\n",
    "    text_length = len(chunk.page_content) \n",
    "    print(f\"Chunk length: {text_length}\")"
   ]
  },
  {
   "cell_type": "markdown",
   "id": "7f5b5b6e",
   "metadata": {},
   "source": [
    "### Embedding"
   ]
  },
  {
   "cell_type": "code",
   "execution_count": 37,
   "id": "4ad20296",
   "metadata": {},
   "outputs": [
    {
     "name": "stdout",
     "output_type": "stream",
     "text": [
      "Requirement already satisfied: langchain-openai in c:\\users\\varsh\\anaconda3\\lib\\site-packages (0.1.3)Note: you may need to restart the kernel to use updated packages.\n",
      "\n",
      "Requirement already satisfied: langchain-core<0.2.0,>=0.1.42 in c:\\users\\varsh\\anaconda3\\lib\\site-packages (from langchain-openai) (0.1.44)\n",
      "Collecting openai<2.0.0,>=1.10.0 (from langchain-openai)\n",
      "  Obtaining dependency information for openai<2.0.0,>=1.10.0 from https://files.pythonhosted.org/packages/32/54/e50ba99d35dd951f5ca94c54cb7fe2f492c8a3a87e5979e21194cccd1977/openai-1.25.0-py3-none-any.whl.metadata\n",
      "  Downloading openai-1.25.0-py3-none-any.whl.metadata (21 kB)\n",
      "Requirement already satisfied: tiktoken<1,>=0.5.2 in c:\\users\\varsh\\anaconda3\\lib\\site-packages (from langchain-openai) (0.6.0)\n",
      "Requirement already satisfied: PyYAML>=5.3 in c:\\users\\varsh\\anaconda3\\lib\\site-packages (from langchain-core<0.2.0,>=0.1.42->langchain-openai) (6.0.1)\n",
      "Requirement already satisfied: jsonpatch<2.0,>=1.33 in c:\\users\\varsh\\anaconda3\\lib\\site-packages (from langchain-core<0.2.0,>=0.1.42->langchain-openai) (1.33)\n",
      "Collecting langsmith<0.2.0,>=0.1.0 (from langchain-core<0.2.0,>=0.1.42->langchain-openai)\n",
      "  Obtaining dependency information for langsmith<0.2.0,>=0.1.0 from https://files.pythonhosted.org/packages/07/9e/1ffe60e85ba05baa54ae4f2cea2db5e05e8e7bd1463f6881a7971af04f2b/langsmith-0.1.52-py3-none-any.whl.metadata\n",
      "  Downloading langsmith-0.1.52-py3-none-any.whl.metadata (13 kB)\n",
      "Requirement already satisfied: packaging<24.0,>=23.2 in c:\\users\\varsh\\anaconda3\\lib\\site-packages (from langchain-core<0.2.0,>=0.1.42->langchain-openai) (23.2)\n",
      "Requirement already satisfied: pydantic<3,>=1 in c:\\users\\varsh\\anaconda3\\lib\\site-packages (from langchain-core<0.2.0,>=0.1.42->langchain-openai) (1.10.0)\n",
      "Requirement already satisfied: tenacity<9.0.0,>=8.1.0 in c:\\users\\varsh\\anaconda3\\lib\\site-packages (from langchain-core<0.2.0,>=0.1.42->langchain-openai) (8.2.3)\n",
      "Requirement already satisfied: anyio<5,>=3.5.0 in c:\\users\\varsh\\anaconda3\\lib\\site-packages (from openai<2.0.0,>=1.10.0->langchain-openai) (3.5.0)\n",
      "Requirement already satisfied: distro<2,>=1.7.0 in c:\\users\\varsh\\anaconda3\\lib\\site-packages (from openai<2.0.0,>=1.10.0->langchain-openai) (1.9.0)\n",
      "Requirement already satisfied: httpx<1,>=0.23.0 in c:\\users\\varsh\\anaconda3\\lib\\site-packages (from openai<2.0.0,>=1.10.0->langchain-openai) (0.26.0)\n",
      "Requirement already satisfied: sniffio in c:\\users\\varsh\\anaconda3\\lib\\site-packages (from openai<2.0.0,>=1.10.0->langchain-openai) (1.3.1)\n",
      "Requirement already satisfied: tqdm>4 in c:\\users\\varsh\\anaconda3\\lib\\site-packages (from openai<2.0.0,>=1.10.0->langchain-openai) (4.66.2)\n",
      "Requirement already satisfied: typing-extensions<5,>=4.7 in c:\\users\\varsh\\anaconda3\\lib\\site-packages (from openai<2.0.0,>=1.10.0->langchain-openai) (4.9.0)\n",
      "Requirement already satisfied: regex>=2022.1.18 in c:\\users\\varsh\\anaconda3\\lib\\site-packages (from tiktoken<1,>=0.5.2->langchain-openai) (2022.7.9)\n",
      "Requirement already satisfied: requests>=2.26.0 in c:\\users\\varsh\\anaconda3\\lib\\site-packages (from tiktoken<1,>=0.5.2->langchain-openai) (2.31.0)\n",
      "Requirement already satisfied: idna>=2.8 in c:\\users\\varsh\\anaconda3\\lib\\site-packages (from anyio<5,>=3.5.0->openai<2.0.0,>=1.10.0->langchain-openai) (3.4)\n",
      "Requirement already satisfied: certifi in c:\\users\\varsh\\anaconda3\\lib\\site-packages (from httpx<1,>=0.23.0->openai<2.0.0,>=1.10.0->langchain-openai) (2023.11.17)\n",
      "Requirement already satisfied: httpcore==1.* in c:\\users\\varsh\\anaconda3\\lib\\site-packages (from httpx<1,>=0.23.0->openai<2.0.0,>=1.10.0->langchain-openai) (1.0.3)\n",
      "Requirement already satisfied: h11<0.15,>=0.13 in c:\\users\\varsh\\anaconda3\\lib\\site-packages (from httpcore==1.*->httpx<1,>=0.23.0->openai<2.0.0,>=1.10.0->langchain-openai) (0.14.0)\n",
      "Requirement already satisfied: jsonpointer>=1.9 in c:\\users\\varsh\\anaconda3\\lib\\site-packages (from jsonpatch<2.0,>=1.33->langchain-core<0.2.0,>=0.1.42->langchain-openai) (2.1)\n",
      "Requirement already satisfied: orjson<4.0.0,>=3.9.14 in c:\\users\\varsh\\anaconda3\\lib\\site-packages (from langsmith<0.2.0,>=0.1.0->langchain-core<0.2.0,>=0.1.42->langchain-openai) (3.9.15)\n",
      "Requirement already satisfied: charset-normalizer<4,>=2 in c:\\users\\varsh\\anaconda3\\lib\\site-packages (from requests>=2.26.0->tiktoken<1,>=0.5.2->langchain-openai) (3.3.2)\n",
      "Requirement already satisfied: urllib3<3,>=1.21.1 in c:\\users\\varsh\\anaconda3\\lib\\site-packages (from requests>=2.26.0->tiktoken<1,>=0.5.2->langchain-openai) (2.2.1)\n",
      "Requirement already satisfied: colorama in c:\\users\\varsh\\anaconda3\\lib\\site-packages (from tqdm>4->openai<2.0.0,>=1.10.0->langchain-openai) (0.4.6)\n",
      "Downloading openai-1.25.0-py3-none-any.whl (312 kB)\n",
      "   ---------------------------------------- 0.0/312.9 kB ? eta -:--:--\n",
      "   --- ------------------------------------ 30.7/312.9 kB 1.4 MB/s eta 0:00:01\n",
      "   ------- ------------------------------- 61.4/312.9 kB 825.8 kB/s eta 0:00:01\n",
      "   -------------------- ------------------- 163.8/312.9 kB 1.4 MB/s eta 0:00:01\n",
      "   ----------------------------------- ---- 276.5/312.9 kB 1.7 MB/s eta 0:00:01\n",
      "   ---------------------------------------- 312.9/312.9 kB 1.6 MB/s eta 0:00:00\n",
      "Downloading langsmith-0.1.52-py3-none-any.whl (116 kB)\n",
      "   ---------------------------------------- 0.0/116.4 kB ? eta -:--:--\n",
      "   ---------------------------------------- 116.4/116.4 kB 3.4 MB/s eta 0:00:00\n",
      "Installing collected packages: langsmith, openai\n",
      "  Attempting uninstall: langsmith\n",
      "    Found existing installation: langsmith 0.0.92\n",
      "    Uninstalling langsmith-0.0.92:\n",
      "      Successfully uninstalled langsmith-0.0.92\n",
      "  Attempting uninstall: openai\n",
      "    Found existing installation: openai 0.28.1\n",
      "    Uninstalling openai-0.28.1:\n",
      "      Successfully uninstalled openai-0.28.1\n",
      "Successfully installed langsmith-0.1.52 openai-1.25.0\n"
     ]
    },
    {
     "name": "stderr",
     "output_type": "stream",
     "text": [
      "ERROR: pip's dependency resolver does not currently take into account all the packages that are installed. This behaviour is the source of the following dependency conflicts.\n",
      "langchain 0.0.316 requires langsmith<0.1.0,>=0.0.43, but you have langsmith 0.1.52 which is incompatible.\n",
      "langchain-experimental 0.0.52 requires langchain<0.2.0,>=0.1.8, but you have langchain 0.0.316 which is incompatible.\n"
     ]
    }
   ],
   "source": [
    "pip install langchain-openai"
   ]
  },
  {
   "cell_type": "code",
   "execution_count": 38,
   "id": "700afe25",
   "metadata": {},
   "outputs": [
    {
     "name": "stdout",
     "output_type": "stream",
     "text": [
      "········\n"
     ]
    }
   ],
   "source": [
    "import os\n",
    "from getpass import getpass\n",
    "OPENAI_API_KEY = getpass()\n",
    "os.environ[\"OPENAI_API_KEY\"] = OPENAI_API_KEY"
   ]
  },
  {
   "cell_type": "code",
   "execution_count": 49,
   "id": "7bc60592",
   "metadata": {},
   "outputs": [],
   "source": [
    "from langchain_openai import OpenAIEmbeddings\n",
    "\n",
    "embeddings_model = OpenAIEmbeddings()"
   ]
  },
  {
   "cell_type": "code",
   "execution_count": 50,
   "id": "da1beb97",
   "metadata": {},
   "outputs": [],
   "source": [
    "from langchain_community.vectorstores import FAISS\n",
    "db = FAISS.from_documents(docs, embeddings_model)"
   ]
  },
  {
   "cell_type": "code",
   "execution_count": 56,
   "id": "b6217e9b",
   "metadata": {},
   "outputs": [],
   "source": [
    "db.save_local(\"faiss_store\")"
   ]
  },
  {
   "cell_type": "code",
   "execution_count": 57,
   "id": "139d21ad",
   "metadata": {},
   "outputs": [],
   "source": [
    "vectorIndex = FAISS.load_local(\"faiss_store\", OpenAIEmbeddings(), allow_dangerous_deserialization=True)"
   ]
  },
  {
   "cell_type": "code",
   "execution_count": 64,
   "id": "c59a8db6",
   "metadata": {},
   "outputs": [],
   "source": [
    "from langchain_openai import OpenAI\n",
    "\n",
    "llm = OpenAI(temperature=0, max_tokens=500,model_name=\"gpt-3.5-turbo\") "
   ]
  },
  {
   "cell_type": "code",
   "execution_count": 65,
   "id": "f2cfe8d3",
   "metadata": {},
   "outputs": [
    {
     "name": "stdout",
     "output_type": "stream",
     "text": [
      "Endoscopic Retrograde Cholangiopancreatography (ERCP)\n"
     ]
    }
   ],
   "source": [
    "query = \"What did the president say about Ketanji Brown Jackson\"\n",
    "docs = db.similarity_search(query)\n",
    "print(docs[0].page_content)"
   ]
  },
  {
   "cell_type": "code",
   "execution_count": null,
   "id": "d1928881",
   "metadata": {},
   "outputs": [],
   "source": []
  }
 ],
 "metadata": {
  "kernelspec": {
   "display_name": "Python 3 (ipykernel)",
   "language": "python",
   "name": "python3"
  },
  "language_info": {
   "codemirror_mode": {
    "name": "ipython",
    "version": 3
   },
   "file_extension": ".py",
   "mimetype": "text/x-python",
   "name": "python",
   "nbconvert_exporter": "python",
   "pygments_lexer": "ipython3",
   "version": "3.11.5"
  }
 },
 "nbformat": 4,
 "nbformat_minor": 5
}
